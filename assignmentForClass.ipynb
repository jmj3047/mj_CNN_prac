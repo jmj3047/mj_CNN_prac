{
 "cells": [
  {
   "cell_type": "markdown",
   "metadata": {},
   "source": [
    "# 프로젝트 개요\n",
    "- 강의명 : 2022년 K-디지털 직업훈련(Training) 사업 - AI데이터플랫폼을 활용한 빅데이터 분석전문가 과정\n",
    "- 교과목명 : 빅데이터 분석 및 시각화, AI개발 기초, 인공지능 프로그래밍\n",
    "- 프로젝트 주제 : FashionMNIST Data를 사용한 CNN모델 구축\n",
    "- 프로젝트 마감일 : 2022년 4월 12일 화요일\n",
    "- 강사명 : 정지훈 강사\n",
    "- 수강생명 : 장민지"
   ]
  },
  {
   "cell_type": "markdown",
   "metadata": {},
   "source": [
    "### MLP tutorial"
   ]
  },
  {
   "cell_type": "code",
   "execution_count": 46,
   "metadata": {},
   "outputs": [
    {
     "name": "stdout",
     "output_type": "stream",
     "text": [
      "/home/jmj3047/mj_CNN_tutorial\n"
     ]
    }
   ],
   "source": [
    "!pwd"
   ]
  },
  {
   "cell_type": "code",
   "execution_count": null,
   "metadata": {},
   "outputs": [],
   "source": [
    "import os\n",
    "\n",
    "os.environ[\"CUDA_DEVICE_ORDER\"]=\"PCI_BUS_ID\"   \n",
    "os.environ[\"CUDA_VISIBLE_DEVICES\"]=\"3\""
   ]
  },
  {
   "cell_type": "code",
   "execution_count": 27,
   "metadata": {},
   "outputs": [],
   "source": [
    "import os\n",
    "import sys\n",
    "from datetime import datetime\n",
    "drive_project_root = \"/home/jmj3047/mj_CNN_tutorial\"\n",
    "sys.path.append(drive_project_root) #경로 맞춰주기"
   ]
  },
  {
   "cell_type": "code",
   "execution_count": null,
   "metadata": {},
   "outputs": [],
   "source": [
    "!pip install -r \"requirements.txt\""
   ]
  },
  {
   "cell_type": "code",
   "execution_count": null,
   "metadata": {},
   "outputs": [],
   "source": [
    "!pip install torchvision"
   ]
  },
  {
   "cell_type": "code",
   "execution_count": 28,
   "metadata": {},
   "outputs": [],
   "source": [
    "import numpy as np\n",
    "from tqdm import tqdm\n",
    "import matplotlib.pyplot as plt\n",
    "from omegaconf import OmegaConf\n",
    "from omegaconf import DictConfig\n",
    "\n",
    "import torch\n",
    "from torch import nn\n",
    "import torch.nn.functional as F\n",
    "from torch import optim\n",
    "from torch_optimizer import RAdam\n",
    "from torch_optimizer import AdamP\n",
    "from torch.utils.tensorboard import SummaryWriter\n",
    "from torch.utils.data import random_split\n",
    "from torchvision.datasets import FashionMNIST\n",
    "from torchvision import transforms\n",
    "import wandb"
   ]
  },
  {
   "cell_type": "code",
   "execution_count": 29,
   "metadata": {},
   "outputs": [],
   "source": [
    "# 데이터 불러오기\n",
    "data_root = os.path.join(os.getcwd(), 'data')\n",
    "\n",
    "#preprocessing & 데이터 셋 정의\n",
    "transform = transforms.Compose(\n",
    "    [\n",
    "        transforms.ToTensor(),\n",
    "        transforms.Normalize([0.5],[0.5]), #mean, std\n",
    "    ]\n",
    ")\n",
    "fashion_mnist_dataset = FashionMNIST(data_root, download=True, train=True, transform=transform)"
   ]
  },
  {
   "cell_type": "code",
   "execution_count": 30,
   "metadata": {},
   "outputs": [
    {
     "data": {
      "text/plain": [
       "9"
      ]
     },
     "execution_count": 30,
     "metadata": {},
     "output_type": "execute_result"
    }
   ],
   "source": [
    "fashion_mnist_dataset[0] #리스트 형태로 나옴\n",
    "fashion_mnist_dataset[0][1] #레이블 번호가 나옴"
   ]
  },
  {
   "cell_type": "code",
   "execution_count": null,
   "metadata": {},
   "outputs": [],
   "source": [
    "#split을 써야 함\n",
    "#random_split을 사용해서 데이터를 나눌수 있음\n",
    "from torch.utils.data import random_split"
   ]
  },
  {
   "cell_type": "code",
   "execution_count": null,
   "metadata": {},
   "outputs": [],
   "source": [
    "data = random_split(\n",
    "    fashion_mnist_dataset,\n",
    "    [int(len(fashion_mnist_dataset)*0.7), len(fashion_mnist_dataset)-int(len(fashion_mnist_dataset)*0.7)\n",
    "    ]\n",
    ")"
   ]
  },
  {
   "cell_type": "code",
   "execution_count": null,
   "metadata": {},
   "outputs": [],
   "source": [
    "data[0]"
   ]
  },
  {
   "cell_type": "code",
   "execution_count": 31,
   "metadata": {},
   "outputs": [],
   "source": [
    "#위에서는 랜덤으로 split되는 거기 때문에 일정사이즈에 맞춰서 예측할수 있게끔 코드 짜주심\n",
    "from data_utils import dataset_split"
   ]
  },
  {
   "cell_type": "code",
   "execution_count": 32,
   "metadata": {},
   "outputs": [],
   "source": [
    "#DataLoader 정의\n",
    "\n",
    "datasets = dataset_split(fashion_mnist_dataset,split=[0.9,0.1])\n",
    "#이렇게 하면 train과 val 세트가 나눠짐\n",
    "\n",
    "train_dataset = datasets[\"train\"]\n",
    "val_dataset = datasets[\"val\"]\n",
    "\n",
    "#미니배치: 한번에 얼마나 적용/업데이트 할 것인지 \n",
    "train_batch_size = 100\n",
    "val_batch_size = 10\n",
    "\n",
    "train_dataloader = torch.utils.data.DataLoader(\n",
    "    train_dataset, batch_size = train_batch_size, shuffle = True, num_workers = 1\n",
    "    #num_workers: 병렬 프로세싱 할 때 얼마나 있는게 좋은지, gpu연산 시 활용\n",
    ")\n",
    "val_dataloader = torch.utils.data.DataLoader(\n",
    "    val_dataset, batch_size = val_batch_size, shuffle = True, num_workers = 1\n",
    ")"
   ]
  },
  {
   "cell_type": "code",
   "execution_count": 33,
   "metadata": {},
   "outputs": [
    {
     "name": "stdout",
     "output_type": "stream",
     "text": [
      "[tensor([[[[-1., -1., -1.,  ..., -1., -1., -1.],\n",
      "          [-1., -1., -1.,  ..., -1., -1., -1.],\n",
      "          [-1., -1., -1.,  ..., -1., -1., -1.],\n",
      "          ...,\n",
      "          [-1., -1., -1.,  ..., -1., -1., -1.],\n",
      "          [-1., -1., -1.,  ..., -1., -1., -1.],\n",
      "          [-1., -1., -1.,  ..., -1., -1., -1.]]],\n",
      "\n",
      "\n",
      "        [[[-1., -1., -1.,  ..., -1., -1., -1.],\n",
      "          [-1., -1., -1.,  ..., -1., -1., -1.],\n",
      "          [-1., -1., -1.,  ..., -1., -1., -1.],\n",
      "          ...,\n",
      "          [-1., -1., -1.,  ..., -1., -1., -1.],\n",
      "          [-1., -1., -1.,  ..., -1., -1., -1.],\n",
      "          [-1., -1., -1.,  ..., -1., -1., -1.]]],\n",
      "\n",
      "\n",
      "        [[[-1., -1., -1.,  ..., -1., -1., -1.],\n",
      "          [-1., -1., -1.,  ..., -1., -1., -1.],\n",
      "          [-1., -1., -1.,  ..., -1., -1., -1.],\n",
      "          ...,\n",
      "          [-1., -1., -1.,  ..., -1., -1., -1.],\n",
      "          [-1., -1., -1.,  ..., -1., -1., -1.],\n",
      "          [-1., -1., -1.,  ..., -1., -1., -1.]]],\n",
      "\n",
      "\n",
      "        ...,\n",
      "\n",
      "\n",
      "        [[[-1., -1., -1.,  ..., -1., -1., -1.],\n",
      "          [-1., -1., -1.,  ..., -1., -1., -1.],\n",
      "          [-1., -1., -1.,  ..., -1., -1., -1.],\n",
      "          ...,\n",
      "          [-1., -1., -1.,  ..., -1., -1., -1.],\n",
      "          [-1., -1., -1.,  ..., -1., -1., -1.],\n",
      "          [-1., -1., -1.,  ..., -1., -1., -1.]]],\n",
      "\n",
      "\n",
      "        [[[-1., -1., -1.,  ..., -1., -1., -1.],\n",
      "          [-1., -1., -1.,  ..., -1., -1., -1.],\n",
      "          [-1., -1., -1.,  ..., -1., -1., -1.],\n",
      "          ...,\n",
      "          [-1., -1., -1.,  ..., -1., -1., -1.],\n",
      "          [-1., -1., -1.,  ..., -1., -1., -1.],\n",
      "          [-1., -1., -1.,  ..., -1., -1., -1.]]],\n",
      "\n",
      "\n",
      "        [[[-1., -1., -1.,  ..., -1., -1., -1.],\n",
      "          [-1., -1., -1.,  ..., -1., -1., -1.],\n",
      "          [-1., -1., -1.,  ..., -1., -1., -1.],\n",
      "          ...,\n",
      "          [-1., -1., -1.,  ..., -1., -1., -1.],\n",
      "          [-1., -1., -1.,  ..., -1., -1., -1.],\n",
      "          [-1., -1., -1.,  ..., -1., -1., -1.]]]]), tensor([6, 6, 4, 9, 3, 3, 7, 5, 4, 8, 9, 6, 2, 9, 4, 1, 6, 8, 2, 6, 9, 5, 5, 6,\n",
      "        5, 4, 7, 3, 1, 9, 7, 9, 7, 6, 4, 2, 7, 5, 7, 2, 5, 3, 4, 1, 8, 0, 8, 3,\n",
      "        0, 4, 0, 9, 7, 6, 8, 7, 3, 4, 9, 1, 1, 6, 8, 5, 2, 7, 8, 0, 8, 6, 8, 2,\n",
      "        4, 8, 3, 0, 5, 9, 3, 5, 8, 8, 0, 8, 5, 6, 6, 0, 5, 3, 8, 4, 2, 1, 8, 6,\n",
      "        9, 6, 1, 6])]\n",
      "torch.Size([100, 1, 28, 28]) torch.Size([100])\n"
     ]
    }
   ],
   "source": [
    "#샘플 배치가 어떻게 생겼는지\n",
    "for sample_batch in train_dataloader:\n",
    "    print(sample_batch)\n",
    "    print(sample_batch[0].shape, sample_batch[1].shape)\n",
    "    break"
   ]
  },
  {
   "cell_type": "code",
   "execution_count": 34,
   "metadata": {},
   "outputs": [],
   "source": [
    "# MLP 모델 정의\n",
    "import torch.nn.functional as F\n",
    "\n",
    "#Define Model.\n",
    "\n",
    "class MLP(nn.Module): #이거 안하면 cpu, gpu에서 꼬임\n",
    "    def __init__(self, in_dim:int, h1_dim: int, h2_dim:int, out_dim:int):\n",
    "        super().__init__()\n",
    "        self.linear1 = nn.Linear(in_dim, h1_dim)\n",
    "        self.linear2 = nn.Linear(h1_dim, h2_dim)\n",
    "        self.linear3 = nn.Linear(h2_dim, out_dim)\n",
    "        self.relu = F.relu #활성화 함수 정의\n",
    "    \n",
    "    def forward(self, input):\n",
    "        x = torch.flatten(input, start_dim=1) \n",
    "        #데이터 사이즈가 100,1,28,28인데 함수의 인풋은 다차원을 받아들일 준비가 안돼있음. 따라서 flatten을 해주면 100만 빼고 나머지가 flatten됨\n",
    "        x = self.relu(self.linear1(x)) #첫번째 은닉층\n",
    "        x = self.relu(self.linear2(x)) #두번째 은닉층\n",
    "        out = self.linear3(x)\n",
    "        #여기다 시그모이드,소프트 맥스 정의 가능\n",
    "        # out = F.sigmoid(out)\n",
    "        return out\n",
    "\n",
    "\n",
    "#MLP + basic regularizers(Dropout, early stoppig)\n",
    "class MLPWithDropout(MLP):\n",
    "    def __init__(self, in_dim:int, h1_dim: int, h2_dim:int, out_dim:int, dropout_prob:float):\n",
    "        super().__init__(in_dim, h1_dim, h2_dim, out_dim)\n",
    "        self.dropout1 = nn.Dropout(dropout_prob)\n",
    "        self.dropout2 = nn.Dropout(dropout_prob)\n",
    "\n",
    "    def forward(self, input):\n",
    "        x = torch.flatten(input, start_dim=1) \n",
    "        x = self.relu(self.linear1(x)) #첫번째 은닉층\n",
    "        x = self.dropout1(x)\n",
    "        x = self.relu(self.linear2(x)) #두번째 은닉층\n",
    "        x = self.dropout2(x)\n",
    "        out = self.linear3(x)\n",
    "        # out = F.sigmoid(out)\n",
    "        return out\n"
   ]
  },
  {
   "cell_type": "code",
   "execution_count": 35,
   "metadata": {},
   "outputs": [
    {
     "name": "stdout",
     "output_type": "stream",
     "text": [
      "layer_1:\n",
      "  conv2d_in_channels: 1\n",
      "  conv2d_out_channels: 32\n",
      "  conv2d_kernel_size: 3\n",
      "  conv2d_padding: 1\n",
      "  maxpool2d_kernel_size: 2\n",
      "  maxpool2d_stride: 2\n",
      "layer_2:\n",
      "  conv2d_in_channels: 32\n",
      "  conv2d_out_channels: 64\n",
      "  conv2d_kernel_size: 3\n",
      "  conv2d_padding: 0\n",
      "  maxpool2d_kernel_size: 2\n",
      "  maxpool2d_stride: 1\n",
      "fc_1:\n",
      "  in_features: 2304\n",
      "  out_features: 512\n",
      "fc_2:\n",
      "  in_features: 512\n",
      "  out_features: 128\n",
      "fc_3:\n",
      "  in_features: 128\n",
      "  out_features: 10\n",
      "dropout_prob: 0.25\n",
      "\n"
     ]
    }
   ],
   "source": [
    "#CNN 모델 정의\n",
    "_cnn_cfg_dict: dict = {\n",
    "    \"layer_1\": {\n",
    "        \"conv2d_in_channels\": 1,\n",
    "        \"conv2d_out_channels\": 32,\n",
    "        \"conv2d_kernel_size\": 3,\n",
    "        \"conv2d_padding\": 1,\n",
    "        \"maxpool2d_kernel_size\": 2,\n",
    "        \"maxpool2d_stride\": 2,\n",
    "    },\n",
    "    \"layer_2\": {\n",
    "        \"conv2d_in_channels\": 32,\n",
    "        \"conv2d_out_channels\": 64,\n",
    "        \"conv2d_kernel_size\": 3,\n",
    "        \"conv2d_padding\": 0,\n",
    "        \"maxpool2d_kernel_size\": 2,\n",
    "        \"maxpool2d_stride\": 1,\n",
    "    },\n",
    "    \"fc_1\": {\n",
    "        \"in_features\": 2304, #  수정 필요!\n",
    "        \"out_features\": 512,\n",
    "    },\n",
    "    \"fc_2\": {\n",
    "        \"in_features\": 512,\n",
    "        \"out_features\": 128,        \n",
    "    },\n",
    "    \"fc_3\": {\n",
    "        \"in_features\": 128,\n",
    "        \"out_features\": 10,\n",
    "    },\n",
    "    \"dropout_prob\": 0.25,\n",
    "}\n",
    "_cnn_cfg = OmegaConf.create(_cnn_cfg_dict)\n",
    "print(OmegaConf.to_yaml(_cnn_cfg))\n",
    "\n",
    "class CNN(nn.Module):\n",
    "    def __init__(self, cfg: DictConfig = _cnn_cfg):\n",
    "        super().__init__()\n",
    "        self.layer1 = nn.Sequential(\n",
    "            nn.Conv2d(\n",
    "                in_channels=cfg.layer_1.conv2d_in_channels,\n",
    "                out_channels=cfg.layer_1.conv2d_out_channels,\n",
    "                kernel_size=cfg.layer_1.conv2d_kernel_size,\n",
    "                padding=cfg.layer_1.conv2d_padding\n",
    "            ),\n",
    "            nn.BatchNorm2d(cfg.layer_1.conv2d_out_channels),\n",
    "            nn.ReLU(),\n",
    "            nn.MaxPool2d(\n",
    "                kernel_size=cfg.layer_1.maxpool2d_kernel_size,\n",
    "                stride=cfg.layer_1.maxpool2d_stride\n",
    "            )\n",
    "        )\n",
    "        self.layer2 = nn.Sequential(\n",
    "            nn.Conv2d(\n",
    "                in_channels=cfg.layer_2.conv2d_in_channels,\n",
    "                out_channels=cfg.layer_2.conv2d_out_channels,\n",
    "                kernel_size=cfg.layer_2.conv2d_kernel_size,\n",
    "                padding=cfg.layer_2.conv2d_padding\n",
    "            ),\n",
    "            nn.BatchNorm2d(cfg.layer_2.conv2d_out_channels),\n",
    "            nn.ReLU(),\n",
    "            nn.MaxPool2d(\n",
    "                kernel_size=cfg.layer_2.maxpool2d_kernel_size,\n",
    "                stride=cfg.layer_2.maxpool2d_stride\n",
    "            )\n",
    "        )\n",
    "        self.fc1 = nn.Linear(\n",
    "            in_features=cfg.fc_1.in_features,\n",
    "            out_features=cfg.fc_1.out_features,\n",
    "        )\n",
    "        self.fc2 = nn.Linear(\n",
    "            in_features=cfg.fc_2.in_features,\n",
    "            out_features=cfg.fc_2.out_features,\n",
    "        )\n",
    "        self.fc3 = nn.Linear(\n",
    "            in_features=cfg.fc_3.in_features,\n",
    "            out_features=cfg.fc_3.out_features,\n",
    "        )\n",
    "        self.dropout = nn.Dropout2d(cfg.dropout_prob)\n",
    "\n",
    "\n",
    "    def forward(self, x):\n",
    "        out = self.layer1(x)\n",
    "        out = self.layer2(out)\n",
    "        out = out.view(out.size(0), -1)\n",
    "        out = self.fc1(out)\n",
    "        out = self.dropout(out)\n",
    "        out = self.fc2(out)\n",
    "        out = self.fc3(out)\n",
    "        return out"
   ]
  },
  {
   "cell_type": "code",
   "execution_count": 36,
   "metadata": {},
   "outputs": [],
   "source": [
    "# Learning rate scheduler\n",
    "# Warmup Scheduler\n",
    "class WarmupLR(optim.lr_scheduler.LambdaLR):\n",
    "\n",
    "    def __init__(\n",
    "        self,\n",
    "        optimizer: optim.Optimizer,\n",
    "        warmup_end_steps: int,\n",
    "        last_epoch: int = -1,\n",
    "    ):\n",
    "        \n",
    "        def wramup_fn(step: int):\n",
    "            if step < warmup_end_steps:\n",
    "                return float(step) / float(max(warmup_end_steps, 1))\n",
    "            return 1.0\n",
    "        \n",
    "        super().__init__(optimizer, wramup_fn, last_epoch)\n",
    "\n"
   ]
  },
  {
   "cell_type": "code",
   "execution_count": 37,
   "metadata": {},
   "outputs": [
    {
     "name": "stdout",
     "output_type": "stream",
     "text": [
      "MLPWithDropout\n"
     ]
    },
    {
     "data": {
      "text/html": [
       "Finishing last run (ID:3chxpza2) before initializing another..."
      ],
      "text/plain": [
       "<IPython.core.display.HTML object>"
      ]
     },
     "metadata": {},
     "output_type": "display_data"
    },
    {
     "name": "stdout",
     "output_type": "stream",
     "text": [
      "\n"
     ]
    },
    {
     "data": {
      "text/html": [
       "Waiting for W&B process to finish... <strong style=\"color:green\">(success).</strong>"
      ],
      "text/plain": [
       "<IPython.core.display.HTML object>"
      ]
     },
     "metadata": {},
     "output_type": "display_data"
    },
    {
     "data": {
      "application/vnd.jupyter.widget-view+json": {
       "model_id": "1242a7baa4fd4136862dac57e75c3085",
       "version_major": 2,
       "version_minor": 0
      },
      "text/plain": [
       "VBox(children=(Label(value='0.001 MB of 0.001 MB uploaded (0.000 MB deduped)\\r'), FloatProgress(value=1.0, max…"
      ]
     },
     "metadata": {},
     "output_type": "display_data"
    },
    {
     "data": {
      "text/html": [
       "Synced <strong style=\"color:#cdcd00\">2022-04-06T15:25:55-MLPWithDropout-Adam_optim_0.001_lr_with_WarmupLR_scheduler</strong>: <a href=\"https://wandb.ai/minjeejang/fastcampus_fashion_mnist_tutorials/runs/3chxpza2\" target=\"_blank\">https://wandb.ai/minjeejang/fastcampus_fashion_mnist_tutorials/runs/3chxpza2</a><br/>Synced 6 W&B file(s), 0 media file(s), 0 artifact file(s) and 0 other file(s)"
      ],
      "text/plain": [
       "<IPython.core.display.HTML object>"
      ]
     },
     "metadata": {},
     "output_type": "display_data"
    },
    {
     "data": {
      "text/html": [
       "Find logs at: <code>./wandb/run-20220406_152555-3chxpza2/logs</code>"
      ],
      "text/plain": [
       "<IPython.core.display.HTML object>"
      ]
     },
     "metadata": {},
     "output_type": "display_data"
    },
    {
     "data": {
      "text/html": [
       "Successfully finished last run (ID:3chxpza2). Initializing new run:<br/>"
      ],
      "text/plain": [
       "<IPython.core.display.HTML object>"
      ]
     },
     "metadata": {},
     "output_type": "display_data"
    },
    {
     "data": {
      "text/html": [
       "Tracking run with wandb version 0.12.12"
      ],
      "text/plain": [
       "<IPython.core.display.HTML object>"
      ]
     },
     "metadata": {},
     "output_type": "display_data"
    },
    {
     "data": {
      "text/html": [
       "Run data is saved locally in <code>/home/jmj3047/mj_CNN_tutorial/wandb/run-20220406_152913-2tjkzvr7</code>"
      ],
      "text/plain": [
       "<IPython.core.display.HTML object>"
      ]
     },
     "metadata": {},
     "output_type": "display_data"
    },
    {
     "data": {
      "text/html": [
       "Syncing run <strong><a href=\"https://wandb.ai/minjeejang/fastcampus_fashion_mnist_tutorials/runs/2tjkzvr7\" target=\"_blank\">2022-04-06T15:29:13-MLPWithDropout-Adam_optim_0.001_lr_with_WarmupLR_scheduler</a></strong> to <a href=\"https://wandb.ai/minjeejang/fastcampus_fashion_mnist_tutorials\" target=\"_blank\">Weights & Biases</a> (<a href=\"https://wandb.me/run\" target=\"_blank\">docs</a>)<br/>"
      ],
      "text/plain": [
       "<IPython.core.display.HTML object>"
      ]
     },
     "metadata": {},
     "output_type": "display_data"
    }
   ],
   "source": [
    "#모델 선언 및 손실함수 정의, optimizer 정의, logger(tensorboard) 정의\n",
    "\n",
    "# # gpu setup\n",
    "gpu = None\n",
    "#gpu = 0\n",
    "# gpu = os.environ[\"CUDA_VISIBLE_DEVICES\"]=3\n",
    "\n",
    "#define model\n",
    "#model = MLP(28*28, 128, 64, 10)\n",
    "model = MLPWithDropout(28*28, 128, 64, 10, dropout_prob=0.3)\n",
    "model_name = type(model).__name__ #모델을 먼저 선언해주면 어떤모델로 사용하는지 보여줌\n",
    "print(model_name)\n",
    "\n",
    "#data loss\n",
    "loss_function = nn.CrossEntropyLoss()\n",
    "\n",
    "#define optimizer\n",
    "lr = 1e-3\n",
    "optimizer = torch.optim.Adam(model.parameters(), lr=lr)\n",
    "# optimizer = torch.optim.SGD(model.parameters(), lr=lr)\n",
    "# optimizer = RAdam(model.parameters(), lr=lr)\n",
    "# optimizer = AdamP(model.parameters(), lr=lr)\n",
    "optimizer_name = type(optimizer).__name__\n",
    "\n",
    "# define scheduler\n",
    "scheduler = WarmupLR(optimizer, 1500)\n",
    "scheduler_name = type(scheduler).__name__ if scheduler is not None else \"no\"\n",
    "\n",
    "max_epoch = 10\n",
    "\n",
    "#define tensorboard logger\n",
    "run_name = f\"{datetime.now().isoformat(timespec='seconds')}-{model_name}-{optimizer_name}_optim_{lr}_lr_with_{scheduler_name}_scheduler\"\n",
    "run_dirname = \"dnn-tutorial-fashion-mnist-runs\"\n",
    "log_dir = os.path.join(drive_project_root, \"runs\", run_dirname, run_name)\n",
    "writer = SummaryWriter(log_dir=log_dir)\n",
    "\n",
    "#log interval\n",
    "log_interval = 100 #100번마다 찍음\n",
    "\n",
    "# define wandb\n",
    "project_name = \"fastcampus_fashion_mnist_tutorials\"\n",
    "run_tags = [project_name]\n",
    "wandb.init(\n",
    "    project=project_name,\n",
    "    name=run_name,\n",
    "    tags=run_tags,\n",
    "    config={\"lr\": lr, \"model_name\": model_name, \"optimizer_name\": optimizer_name, \"scheduler_name\": scheduler_name},\n",
    "    reinit=True,\n",
    ")\n",
    "\n",
    "# set save model path\n",
    "log_model_path = os.path.join(log_dir, \"models\")\n",
    "os.makedirs(log_model_path, exist_ok=True)"
   ]
  },
  {
   "cell_type": "code",
   "execution_count": null,
   "metadata": {},
   "outputs": [],
   "source": [
    "!pip install wandb --upgrade"
   ]
  },
  {
   "cell_type": "code",
   "execution_count": 38,
   "metadata": {},
   "outputs": [],
   "source": [
    "## Early Stopping callback Object Class 정의\n",
    "\n",
    "# With some modifications, source is from https://github.com/Bjarten/early-stopping-pytorch\n",
    "\n",
    "class EarlyStopping:\n",
    "    \"\"\"Early stops the training if validation loss doesn't improve after a given patience.\"\"\"\n",
    "    def __init__(self, patience=7, verbose=False, delta=0, path='checkpoint.ckpt', trace_func=print):\n",
    "        \"\"\"\n",
    "        Args:\n",
    "            patience (int): How long to wait after last time validation loss improved.\n",
    "                            Default: 7\n",
    "            verbose (bool): If True, prints a message for each validation loss improvement. \n",
    "                            Default: False\n",
    "            delta (float): Minimum change in the monitored quantity to qualify as an improvement.\n",
    "                            Default: 0\n",
    "            path (str): Path for the checkpoint to be saved to.\n",
    "                            Default: 'checkpoint.ckpt'\n",
    "            trace_func (function): trace print function.\n",
    "                            Default: print            \n",
    "        \"\"\"\n",
    "        self.patience = patience\n",
    "        self.verbose = verbose\n",
    "        self.counter = 0\n",
    "        self.best_score = None\n",
    "        self.early_stop = False\n",
    "        self.val_loss_min = np.Inf\n",
    "        self.delta = delta\n",
    "        self.path = path\n",
    "        self.trace_func = trace_func\n",
    "\n",
    "    def __call__(self, val_loss, model):\n",
    "\n",
    "        score = -val_loss\n",
    "\n",
    "        if self.best_score is None:\n",
    "            self.best_score = score\n",
    "            self.save_checkpoint(val_loss, model)\n",
    "        elif score < self.best_score + self.delta:\n",
    "            self.counter += 1\n",
    "            self.trace_func(f'EarlyStopping counter: {self.counter} out of {self.patience}')\n",
    "            if self.counter >= self.patience:\n",
    "                self.early_stop = True\n",
    "        else:\n",
    "            self.best_score = score\n",
    "            self.save_checkpoint(val_loss, model)\n",
    "            self.counter = 0\n",
    "\n",
    "    def save_checkpoint(self, val_loss, model):\n",
    "        '''Saves model when validation loss decrease.'''\n",
    "        if self.verbose:\n",
    "            self.trace_func(f'Validation loss decreased ({self.val_loss_min:.6f} --> {val_loss:.6f}).  Saving model ...')\n",
    "        \n",
    "        filename = self.path.split('/')[-1]\n",
    "        save_dir = os.path.dirname(self.path)\n",
    "        torch.save(model, os.path.join(save_dir, f\"val_loss-{val_loss}-{filename}\"))\n",
    "        self.val_loss_min = val_loss"
   ]
  },
  {
   "cell_type": "code",
   "execution_count": 39,
   "metadata": {},
   "outputs": [
    {
     "name": "stdout",
     "output_type": "stream",
     "text": [
      "The tensorboard extension is already loaded. To reload it, use:\n",
      "  %reload_ext tensorboard\n"
     ]
    },
    {
     "data": {
      "text/plain": [
       "Reusing TensorBoard on port 6006 (pid 17880), started 2 days, 3:44:45 ago. (Use '!kill 17880' to kill it.)"
      ]
     },
     "metadata": {},
     "output_type": "display_data"
    },
    {
     "data": {
      "text/html": [
       "\n",
       "      <iframe id=\"tensorboard-frame-af9f47ebf30614d9\" width=\"100%\" height=\"800\" frameborder=\"0\">\n",
       "      </iframe>\n",
       "      <script>\n",
       "        (function() {\n",
       "          const frame = document.getElementById(\"tensorboard-frame-af9f47ebf30614d9\");\n",
       "          const url = new URL(\"http://localhost\");\n",
       "          const port = 6006;\n",
       "          if (port) {\n",
       "            url.port = port;\n",
       "          }\n",
       "          frame.src = url;\n",
       "        })();\n",
       "      </script>\n",
       "    "
      ],
      "text/plain": [
       "<IPython.core.display.HTML object>"
      ]
     },
     "metadata": {},
     "output_type": "display_data"
    },
    {
     "name": "stderr",
     "output_type": "stream",
     "text": [
      "validation: 100%|██████████| 600/600 [00:05<00:00, 107.09it/s]\n",
      "Train:   0%|          | 0/540 [00:00<?, ?it/s]"
     ]
    },
    {
     "name": "stdout",
     "output_type": "stream",
     "text": [
      "1 epoch, 0 step: val_loss: 0.22985124588012695, val_acc: 0.09283319860696793\n",
      "Validation loss decreased (inf --> 0.229851).  Saving model ...\n",
      "0: train_loss: 0.022927565574645994, train_acc: 0.07000000029802322\n"
     ]
    },
    {
     "name": "stderr",
     "output_type": "stream",
     "text": [
      "Train:  19%|█▉        | 104/540 [00:09<00:21, 20.51it/s]"
     ]
    },
    {
     "name": "stdout",
     "output_type": "stream",
     "text": [
      "100: train_loss: 0.02007065773010254, train_acc: 0.36000001430511475\n"
     ]
    },
    {
     "name": "stderr",
     "output_type": "stream",
     "text": [
      "Train:  37%|███▋      | 200/540 [00:14<00:08, 39.93it/s]"
     ]
    },
    {
     "name": "stdout",
     "output_type": "stream",
     "text": [
      "200: train_loss: 0.011864114999771119, train_acc: 0.5799999833106995\n"
     ]
    },
    {
     "name": "stderr",
     "output_type": "stream",
     "text": [
      "Train:  56%|█████▌    | 303/540 [00:22<00:16, 14.67it/s]"
     ]
    },
    {
     "name": "stdout",
     "output_type": "stream",
     "text": [
      "300: train_loss: 0.008239740133285522, train_acc: 0.6899999976158142\n"
     ]
    },
    {
     "name": "stderr",
     "output_type": "stream",
     "text": [
      "Train:  74%|███████▍  | 402/540 [00:27<00:04, 29.15it/s]"
     ]
    },
    {
     "name": "stdout",
     "output_type": "stream",
     "text": [
      "400: train_loss: 0.008309401869773865, train_acc: 0.7699999809265137\n"
     ]
    },
    {
     "name": "stderr",
     "output_type": "stream",
     "text": [
      "Train:  93%|█████████▎| 503/540 [00:36<00:03, 10.56it/s]"
     ]
    },
    {
     "name": "stdout",
     "output_type": "stream",
     "text": [
      "500: train_loss: 0.0064211893081665035, train_acc: 0.7699999809265137\n"
     ]
    },
    {
     "name": "stderr",
     "output_type": "stream",
     "text": [
      "Train: 100%|██████████| 540/540 [00:38<00:00, 14.13it/s]\n",
      "validation: 100%|██████████| 600/600 [00:07<00:00, 84.40it/s] \n",
      "Train:   0%|          | 0/540 [00:00<?, ?it/s]"
     ]
    },
    {
     "name": "stdout",
     "output_type": "stream",
     "text": [
      "2 epoch, 540 step: val_loss: 0.05393615737557411, val_acc: 0.8004986643791199\n",
      "Validation loss decreased (0.229851 --> 0.053936).  Saving model ...\n"
     ]
    },
    {
     "name": "stderr",
     "output_type": "stream",
     "text": [
      "Train:  11%|█▏        | 62/540 [00:04<01:07,  7.10it/s]"
     ]
    },
    {
     "name": "stdout",
     "output_type": "stream",
     "text": [
      "600: train_loss: 0.006997644305229187, train_acc: 0.7900000214576721\n"
     ]
    },
    {
     "name": "stderr",
     "output_type": "stream",
     "text": [
      "Train:  31%|███       | 165/540 [00:10<00:12, 28.99it/s]"
     ]
    },
    {
     "name": "stdout",
     "output_type": "stream",
     "text": [
      "700: train_loss: 0.004065274298191071, train_acc: 0.8700000047683716\n"
     ]
    },
    {
     "name": "stderr",
     "output_type": "stream",
     "text": [
      "Train:  48%|████▊     | 261/540 [00:18<00:21, 12.87it/s]"
     ]
    },
    {
     "name": "stdout",
     "output_type": "stream",
     "text": [
      "800: train_loss: 0.006907865405082703, train_acc: 0.8199999928474426\n"
     ]
    },
    {
     "name": "stderr",
     "output_type": "stream",
     "text": [
      "Train:  66%|██████▋   | 359/540 [00:23<00:05, 35.98it/s]"
     ]
    },
    {
     "name": "stdout",
     "output_type": "stream",
     "text": [
      "900: train_loss: 0.005617197155952453, train_acc: 0.800000011920929\n"
     ]
    },
    {
     "name": "stderr",
     "output_type": "stream",
     "text": [
      "Train:  86%|████████▌ | 462/540 [00:31<00:06, 12.59it/s]"
     ]
    },
    {
     "name": "stdout",
     "output_type": "stream",
     "text": [
      "1000: train_loss: 0.004827341735363006, train_acc: 0.8399999737739563\n"
     ]
    },
    {
     "name": "stderr",
     "output_type": "stream",
     "text": [
      "Train: 100%|██████████| 540/540 [00:36<00:00, 14.75it/s]\n",
      "validation: 100%|██████████| 600/600 [00:05<00:00, 110.51it/s]\n",
      "Train:   0%|          | 0/540 [00:00<?, ?it/s]"
     ]
    },
    {
     "name": "stdout",
     "output_type": "stream",
     "text": [
      "3 epoch, 1080 step: val_loss: 0.043894585222005844, val_acc: 0.8348316550254822\n",
      "Validation loss decreased (0.053936 --> 0.043895).  Saving model ...\n"
     ]
    },
    {
     "name": "stderr",
     "output_type": "stream",
     "text": [
      "Train:   4%|▍         | 21/540 [00:03<00:45, 11.30it/s]"
     ]
    },
    {
     "name": "stdout",
     "output_type": "stream",
     "text": [
      "1100: train_loss: 0.005633728504180908, train_acc: 0.800000011920929\n"
     ]
    },
    {
     "name": "stderr",
     "output_type": "stream",
     "text": [
      "Train:  23%|██▎       | 122/540 [00:08<00:14, 27.89it/s]"
     ]
    },
    {
     "name": "stdout",
     "output_type": "stream",
     "text": [
      "1200: train_loss: 0.005617084503173828, train_acc: 0.8299999833106995\n"
     ]
    },
    {
     "name": "stderr",
     "output_type": "stream",
     "text": [
      "Train:  41%|████▏     | 223/540 [00:16<00:33,  9.60it/s]"
     ]
    },
    {
     "name": "stdout",
     "output_type": "stream",
     "text": [
      "1300: train_loss: 0.005447611212730408, train_acc: 0.8100000023841858\n"
     ]
    },
    {
     "name": "stderr",
     "output_type": "stream",
     "text": [
      "Train:  60%|██████    | 324/540 [00:22<00:07, 28.92it/s]"
     ]
    },
    {
     "name": "stdout",
     "output_type": "stream",
     "text": [
      "1400: train_loss: 0.004691483974456787, train_acc: 0.8299999833106995\n"
     ]
    },
    {
     "name": "stderr",
     "output_type": "stream",
     "text": [
      "Train:  78%|███████▊  | 422/540 [00:30<00:12,  9.70it/s]"
     ]
    },
    {
     "name": "stdout",
     "output_type": "stream",
     "text": [
      "1500: train_loss: 0.004939497411251068, train_acc: 0.8100000023841858\n"
     ]
    },
    {
     "name": "stderr",
     "output_type": "stream",
     "text": [
      "Train:  96%|█████████▌| 518/540 [00:35<00:00, 35.44it/s]"
     ]
    },
    {
     "name": "stdout",
     "output_type": "stream",
     "text": [
      "1600: train_loss: 0.006664305925369263, train_acc: 0.7599999904632568\n"
     ]
    },
    {
     "name": "stderr",
     "output_type": "stream",
     "text": [
      "Train: 100%|██████████| 540/540 [00:38<00:00, 13.88it/s]\n",
      "validation: 100%|██████████| 600/600 [00:05<00:00, 110.94it/s]\n",
      "Train:   0%|          | 0/540 [00:00<?, ?it/s]"
     ]
    },
    {
     "name": "stdout",
     "output_type": "stream",
     "text": [
      "4 epoch, 1620 step: val_loss: 0.04015584662556648, val_acc: 0.853498101234436\n",
      "Validation loss decreased (0.043895 --> 0.040156).  Saving model ...\n"
     ]
    },
    {
     "name": "stderr",
     "output_type": "stream",
     "text": [
      "Train:  14%|█▍        | 78/540 [00:05<00:35, 13.03it/s]"
     ]
    },
    {
     "name": "stdout",
     "output_type": "stream",
     "text": [
      "1700: train_loss: 0.002808903157711029, train_acc: 0.8999999761581421\n"
     ]
    },
    {
     "name": "stderr",
     "output_type": "stream",
     "text": [
      "Train:  34%|███▍      | 183/540 [00:13<00:21, 16.82it/s]"
     ]
    },
    {
     "name": "stdout",
     "output_type": "stream",
     "text": [
      "1800: train_loss: 0.0034350281953811645, train_acc: 0.8700000047683716\n"
     ]
    },
    {
     "name": "stderr",
     "output_type": "stream",
     "text": [
      "Train:  53%|█████▎    | 284/540 [00:18<00:08, 28.83it/s]"
     ]
    },
    {
     "name": "stdout",
     "output_type": "stream",
     "text": [
      "1900: train_loss: 0.003984178304672241, train_acc: 0.8299999833106995\n"
     ]
    },
    {
     "name": "stderr",
     "output_type": "stream",
     "text": [
      "Train:  71%|███████   | 381/540 [00:26<00:17,  8.99it/s]"
     ]
    },
    {
     "name": "stdout",
     "output_type": "stream",
     "text": [
      "2000: train_loss: 0.00531227707862854, train_acc: 0.8100000023841858\n"
     ]
    },
    {
     "name": "stderr",
     "output_type": "stream",
     "text": [
      "Train:  90%|████████▉ | 485/540 [00:32<00:01, 28.78it/s]"
     ]
    },
    {
     "name": "stdout",
     "output_type": "stream",
     "text": [
      "2100: train_loss: 0.0041820770502090454, train_acc: 0.8299999833106995\n"
     ]
    },
    {
     "name": "stderr",
     "output_type": "stream",
     "text": [
      "Train: 100%|██████████| 540/540 [00:36<00:00, 14.81it/s]\n",
      "validation: 100%|██████████| 600/600 [00:06<00:00, 98.65it/s] \n",
      "Train:   0%|          | 0/540 [00:00<?, ?it/s]"
     ]
    },
    {
     "name": "stdout",
     "output_type": "stream",
     "text": [
      "5 epoch, 2160 step: val_loss: 0.038012098520994186, val_acc: 0.8614979982376099\n",
      "Validation loss decreased (0.040156 --> 0.038012).  Saving model ...\n"
     ]
    },
    {
     "name": "stderr",
     "output_type": "stream",
     "text": [
      "Train:   8%|▊         | 43/540 [00:03<00:17, 28.50it/s]"
     ]
    },
    {
     "name": "stdout",
     "output_type": "stream",
     "text": [
      "2200: train_loss: 0.005906157493591309, train_acc: 0.75\n"
     ]
    },
    {
     "name": "stderr",
     "output_type": "stream",
     "text": [
      "Train:  26%|██▌       | 141/540 [00:11<00:50,  7.95it/s]"
     ]
    },
    {
     "name": "stdout",
     "output_type": "stream",
     "text": [
      "2300: train_loss: 0.0044090116024017335, train_acc: 0.8600000143051147\n"
     ]
    },
    {
     "name": "stderr",
     "output_type": "stream",
     "text": [
      "Train:  45%|████▌     | 244/540 [00:17<00:21, 13.46it/s]"
     ]
    },
    {
     "name": "stdout",
     "output_type": "stream",
     "text": [
      "2400: train_loss: 0.0057644879817962645, train_acc: 0.8100000023841858\n"
     ]
    },
    {
     "name": "stderr",
     "output_type": "stream",
     "text": [
      "Train:  63%|██████▎   | 341/540 [00:22<00:11, 17.56it/s]"
     ]
    },
    {
     "name": "stdout",
     "output_type": "stream",
     "text": [
      "2500: train_loss: 0.0055582720041275025, train_acc: 0.8100000023841858\n"
     ]
    },
    {
     "name": "stderr",
     "output_type": "stream",
     "text": [
      "Train:  81%|████████▏ | 439/540 [00:27<00:02, 38.82it/s]"
     ]
    },
    {
     "name": "stdout",
     "output_type": "stream",
     "text": [
      "2600: train_loss: 0.0029764649271965026, train_acc: 0.8999999761581421\n"
     ]
    },
    {
     "name": "stderr",
     "output_type": "stream",
     "text": [
      "Train: 100%|██████████| 540/540 [00:32<00:00, 16.49it/s]\n",
      "validation: 100%|██████████| 600/600 [00:08<00:00, 73.58it/s] \n",
      "Train:   0%|          | 0/540 [00:00<?, ?it/s]"
     ]
    },
    {
     "name": "stdout",
     "output_type": "stream",
     "text": [
      "6 epoch, 2700 step: val_loss: 0.037079211324453354, val_acc: 0.8668314814567566\n",
      "Validation loss decreased (0.038012 --> 0.037079).  Saving model ...\n",
      "2700: train_loss: 0.002936837375164032, train_acc: 0.9300000071525574\n"
     ]
    },
    {
     "name": "stderr",
     "output_type": "stream",
     "text": [
      "Train:  18%|█▊        | 98/540 [00:05<00:11, 37.83it/s]"
     ]
    },
    {
     "name": "stdout",
     "output_type": "stream",
     "text": [
      "2800: train_loss: 0.004697108566761017, train_acc: 0.8399999737739563\n"
     ]
    },
    {
     "name": "stderr",
     "output_type": "stream",
     "text": [
      "Train:  37%|███▋      | 202/540 [00:14<00:22, 14.73it/s]"
     ]
    },
    {
     "name": "stdout",
     "output_type": "stream",
     "text": [
      "2900: train_loss: 0.003927461206912995, train_acc: 0.8700000047683716\n"
     ]
    },
    {
     "name": "stderr",
     "output_type": "stream",
     "text": [
      "Train:  56%|█████▌    | 301/540 [00:19<00:08, 27.68it/s]"
     ]
    },
    {
     "name": "stdout",
     "output_type": "stream",
     "text": [
      "3000: train_loss: 0.005618944764137268, train_acc: 0.8199999928474426\n"
     ]
    },
    {
     "name": "stderr",
     "output_type": "stream",
     "text": [
      "Train:  75%|███████▍  | 403/540 [00:27<00:06, 21.20it/s]"
     ]
    },
    {
     "name": "stdout",
     "output_type": "stream",
     "text": [
      "3100: train_loss: 0.003249891996383667, train_acc: 0.8899999856948853\n"
     ]
    },
    {
     "name": "stderr",
     "output_type": "stream",
     "text": [
      "Train:  92%|█████████▏| 498/540 [00:32<00:01, 31.51it/s]"
     ]
    },
    {
     "name": "stdout",
     "output_type": "stream",
     "text": [
      "3200: train_loss: 0.005001215934753418, train_acc: 0.7900000214576721\n"
     ]
    },
    {
     "name": "stderr",
     "output_type": "stream",
     "text": [
      "Train: 100%|██████████| 540/540 [00:36<00:00, 14.86it/s]\n",
      "validation: 100%|██████████| 600/600 [00:05<00:00, 109.18it/s]\n",
      "Train:   0%|          | 0/540 [00:00<?, ?it/s]"
     ]
    },
    {
     "name": "stdout",
     "output_type": "stream",
     "text": [
      "7 epoch, 3240 step: val_loss: 0.03604898974299431, val_acc: 0.872164785861969\n",
      "Validation loss decreased (0.037079 --> 0.036049).  Saving model ...\n"
     ]
    },
    {
     "name": "stderr",
     "output_type": "stream",
     "text": [
      "Train:  10%|█         | 56/540 [00:03<00:12, 39.47it/s]"
     ]
    },
    {
     "name": "stdout",
     "output_type": "stream",
     "text": [
      "3300: train_loss: 0.00423274964094162, train_acc: 0.8500000238418579\n"
     ]
    },
    {
     "name": "stderr",
     "output_type": "stream",
     "text": [
      "Train:  30%|██▉       | 161/540 [00:11<00:36, 10.49it/s]"
     ]
    },
    {
     "name": "stdout",
     "output_type": "stream",
     "text": [
      "3400: train_loss: 0.0031965887546539307, train_acc: 0.8899999856948853\n"
     ]
    },
    {
     "name": "stderr",
     "output_type": "stream",
     "text": [
      "Train:  49%|████▊     | 262/540 [00:17<00:10, 26.82it/s]"
     ]
    },
    {
     "name": "stdout",
     "output_type": "stream",
     "text": [
      "3500: train_loss: 0.002007903903722763, train_acc: 0.9200000166893005\n"
     ]
    },
    {
     "name": "stderr",
     "output_type": "stream",
     "text": [
      "Train:  67%|██████▋   | 361/540 [00:25<00:14, 12.71it/s]"
     ]
    },
    {
     "name": "stdout",
     "output_type": "stream",
     "text": [
      "3600: train_loss: 0.004444378912448883, train_acc: 0.8199999928474426\n"
     ]
    },
    {
     "name": "stderr",
     "output_type": "stream",
     "text": [
      "Train:  85%|████████▌ | 460/540 [00:30<00:02, 34.90it/s]"
     ]
    },
    {
     "name": "stdout",
     "output_type": "stream",
     "text": [
      "3700: train_loss: 0.0032509589195251465, train_acc: 0.9100000262260437\n"
     ]
    },
    {
     "name": "stderr",
     "output_type": "stream",
     "text": [
      "Train: 100%|██████████| 540/540 [00:37<00:00, 14.30it/s]\n",
      "validation: 100%|██████████| 600/600 [00:05<00:00, 100.74it/s]\n",
      "Train:   0%|          | 0/540 [00:00<?, ?it/s]"
     ]
    },
    {
     "name": "stdout",
     "output_type": "stream",
     "text": [
      "8 epoch, 3780 step: val_loss: 0.03481597080826759, val_acc: 0.8733314871788025\n",
      "Validation loss decreased (0.036049 --> 0.034816).  Saving model ...\n"
     ]
    },
    {
     "name": "stderr",
     "output_type": "stream",
     "text": [
      "Train:   4%|▍         | 21/540 [00:00<00:19, 26.33it/s]"
     ]
    },
    {
     "name": "stdout",
     "output_type": "stream",
     "text": [
      "3800: train_loss: 0.0023615217208862306, train_acc: 0.9100000262260437\n"
     ]
    },
    {
     "name": "stderr",
     "output_type": "stream",
     "text": [
      "Train:  23%|██▎       | 123/540 [00:08<00:33, 12.37it/s]"
     ]
    },
    {
     "name": "stdout",
     "output_type": "stream",
     "text": [
      "3900: train_loss: 0.0034804856777191162, train_acc: 0.8600000143051147\n"
     ]
    },
    {
     "name": "stderr",
     "output_type": "stream",
     "text": [
      "Train:  41%|████▏     | 224/540 [00:14<00:10, 29.86it/s]"
     ]
    },
    {
     "name": "stdout",
     "output_type": "stream",
     "text": [
      "4000: train_loss: 0.004171576797962189, train_acc: 0.8399999737739563\n"
     ]
    },
    {
     "name": "stderr",
     "output_type": "stream",
     "text": [
      "Train:  59%|█████▉    | 321/540 [00:22<00:17, 12.33it/s]"
     ]
    },
    {
     "name": "stdout",
     "output_type": "stream",
     "text": [
      "4100: train_loss: 0.002495213747024536, train_acc: 0.9100000262260437\n"
     ]
    },
    {
     "name": "stderr",
     "output_type": "stream",
     "text": [
      "Train:  78%|███████▊  | 422/540 [00:27<00:03, 29.71it/s]"
     ]
    },
    {
     "name": "stdout",
     "output_type": "stream",
     "text": [
      "4200: train_loss: 0.0020317941904067992, train_acc: 0.9200000166893005\n"
     ]
    },
    {
     "name": "stderr",
     "output_type": "stream",
     "text": [
      "Train:  96%|█████████▋| 521/540 [00:35<00:01, 18.11it/s]"
     ]
    },
    {
     "name": "stdout",
     "output_type": "stream",
     "text": [
      "4300: train_loss: 0.0021232807636260985, train_acc: 0.949999988079071\n"
     ]
    },
    {
     "name": "stderr",
     "output_type": "stream",
     "text": [
      "Train: 100%|██████████| 540/540 [00:36<00:00, 14.86it/s]\n",
      "validation: 100%|██████████| 600/600 [00:08<00:00, 72.47it/s] \n",
      "Train:   0%|          | 0/540 [00:00<?, ?it/s]"
     ]
    },
    {
     "name": "stdout",
     "output_type": "stream",
     "text": [
      "9 epoch, 4320 step: val_loss: 0.03460345044732094, val_acc: 0.8731644749641418\n",
      "Validation loss decreased (0.034816 --> 0.034603).  Saving model ...\n"
     ]
    },
    {
     "name": "stderr",
     "output_type": "stream",
     "text": [
      "Train:  16%|█▌        | 84/540 [00:05<00:24, 18.63it/s]"
     ]
    },
    {
     "name": "stdout",
     "output_type": "stream",
     "text": [
      "4400: train_loss: 0.003855233788490295, train_acc: 0.8100000023841858\n"
     ]
    },
    {
     "name": "stderr",
     "output_type": "stream",
     "text": [
      "Train:  33%|███▎      | 178/540 [00:10<00:09, 37.96it/s]"
     ]
    },
    {
     "name": "stdout",
     "output_type": "stream",
     "text": [
      "4500: train_loss: 0.0032953548431396483, train_acc: 0.8799999952316284\n"
     ]
    },
    {
     "name": "stderr",
     "output_type": "stream",
     "text": [
      "Train:  53%|█████▎    | 284/540 [00:18<00:14, 17.71it/s]"
     ]
    },
    {
     "name": "stdout",
     "output_type": "stream",
     "text": [
      "4600: train_loss: 0.0017591959238052368, train_acc: 0.9599999785423279\n"
     ]
    },
    {
     "name": "stderr",
     "output_type": "stream",
     "text": [
      "Train:  71%|███████   | 384/540 [00:23<00:04, 33.43it/s]"
     ]
    },
    {
     "name": "stdout",
     "output_type": "stream",
     "text": [
      "4700: train_loss: 0.0033897238969802855, train_acc: 0.8999999761581421\n"
     ]
    },
    {
     "name": "stderr",
     "output_type": "stream",
     "text": [
      "Train:  89%|████████▉ | 480/540 [00:28<00:01, 39.47it/s]"
     ]
    },
    {
     "name": "stdout",
     "output_type": "stream",
     "text": [
      "4800: train_loss: 0.0024532918632030488, train_acc: 0.8899999856948853\n"
     ]
    },
    {
     "name": "stderr",
     "output_type": "stream",
     "text": [
      "Train: 100%|██████████| 540/540 [00:33<00:00, 16.28it/s]\n"
     ]
    }
   ],
   "source": [
    "#logging 하는 방법\n",
    "%load_ext tensorboard \n",
    "#외부에서 텐서보드를 가지고 온다\n",
    "%tensorboard --logdir runs/ \n",
    "#runs라는 폴더를 만들고 거기다가 logging을 쌓고 그걸 plot하는 것\n",
    "\n",
    "# define EarlyStopping.\n",
    "early_stopper = EarlyStopping(\n",
    "    patience=3, verbose=True, path=os.path.join(log_model_path, \"model.ckpt\")\n",
    ")\n",
    "\n",
    "# do train with validation.\n",
    "train_step = 0\n",
    "for epoch in range(1, max_epoch):\n",
    "    \n",
    "    #Validation step: optimization는 업데이트 안함\n",
    "    with torch.no_grad():\n",
    "        val_loss =0.0\n",
    "        val_corrects = 0\n",
    "        model.eval()\n",
    "\n",
    "        for val_batch_idx, (val_images, val_labels) in enumerate(\n",
    "            tqdm(val_dataloader, position =0, leave= True, desc='validation') #tqdm은 예쁘게 정리해줌\n",
    "        ):\n",
    "\n",
    "            if gpu is not None:\n",
    "                val_images = val_images.cuda(gpu, non_blocking=True)\n",
    "                val_labels = val_labels.cuda(gpu, non_blocking=True)\n",
    "\n",
    "            #forward까지는 똑같음\n",
    "            val_outputs = model(val_images)\n",
    "            _,val_preds = torch.max(val_outputs,1)\n",
    "\n",
    "            #loss & acc\n",
    "            val_loss += loss_function(val_outputs, val_labels) / val_outputs.shape[0]\n",
    "            #val_lables/ val_outputs.shape[0]: 배치 사이즈, 이걸로 평균 내겠다. \n",
    "            val_corrects += torch.sum(val_preds == val_labels.data) / val_outputs.shape[0]\n",
    "        \n",
    "    #validation step logging\n",
    "    val_epoch_loss = val_loss / len(val_dataloader)\n",
    "    val_epoch_acc = val_corrects / len(val_dataloader)\n",
    "\n",
    "    print(\n",
    "        f\"{epoch} epoch, {train_step} step: val_loss: {val_epoch_loss}, val_acc: {val_epoch_acc}\"\n",
    "    )\n",
    "\n",
    "    #tensorboard write\n",
    "    writer.add_scalar(\"Loss/val\", val_epoch_loss, train_step)\n",
    "    writer.add_scalar(\"Acc/val\", val_epoch_acc, train_step)\n",
    "    writer.add_images(\"Images/val\", val_images, train_step)\n",
    "\n",
    "    # wandb log\n",
    "    wandb.log({\n",
    "        \"Loss/val\": val_epoch_loss,\n",
    "        \"Acc/val\": val_epoch_acc,\n",
    "        \"Images/val\": wandb.Image(val_images),\n",
    "        \"Outputs/val\": wandb.Histogram(val_outputs.detach().cpu().numpy()),\n",
    "        \"Preds/val\": wandb.Histogram(val_preds.detach().cpu().numpy()),\n",
    "        \"Labels/val\": wandb.Histogram(val_labels.data.detach().cpu().numpy()),\n",
    "    }, step=train_step)\n",
    "\n",
    "    # check model early stopping point & save model if the model reached the best performance.\n",
    "    early_stopper(val_epoch_loss, model)\n",
    "    if early_stopper.early_stop:\n",
    "        break\n",
    "    \n",
    "    #로깅이 끝났기 때문에 로스를 초기화 해서 처음부터 다시 더해질수 있게 함\n",
    "    current_loss = 0 \n",
    "    current_corrects = 0\n",
    "\n",
    "    #Train step\n",
    "    model.train()\n",
    "    #학습 데이터에 대해서 가지고 오고 훈련 진행\n",
    "    for batch_idx, (images, labels) in enumerate( #batch 인덱스랑 라벨을 계속 확인 함\n",
    "        tqdm(train_dataloader, position =0, leave= True, desc='Train') #어떻게 나오는지 보기위해 data loader를 켜줌\n",
    "    ):\n",
    "        if gpu is not None:\n",
    "            images = images.cuda(gpu)\n",
    "            labels = labels.cuda(gpu)\n",
    "\n",
    "        current_loss = 0.0\n",
    "        current_corrects = 0 #로스와 정확도 체크\n",
    "\n",
    "        # forward\n",
    "        #get prediction, 결과를 얻는 방법\n",
    "        outputs = model(images) #이거만 하면 softmax를 안해서 뒤죽박죽으로 나옴\n",
    "        \n",
    "        #그래서 여기서 max 값의 index를 가지고오는 코드를 짬\n",
    "        _, preds = torch.max(outputs, 1)\n",
    "        \n",
    "        #get loss (loss 계산)\n",
    "        loss = loss_function(outputs, labels)\n",
    "\n",
    "        # backpropagation\n",
    "        #optimization 초기화\n",
    "        optimizer.zero_grad()\n",
    "\n",
    "        #perform backward pass\n",
    "        loss.backward()\n",
    "\n",
    "        #perform optimization\n",
    "        optimizer.step()\n",
    "\n",
    "        # Perform LR scheduler Work\n",
    "        if scheduler is not None:\n",
    "            scheduler.step()\n",
    "\n",
    "        current_loss += loss.item()\n",
    "        current_corrects += torch.sum(preds==labels.data)\n",
    "\n",
    "        #logging, 좀 더 정확하게 보기 위해서 평균 값 봄\n",
    "        if train_step % log_interval == 0:\n",
    "            train_loss = current_loss / log_interval\n",
    "            train_acc = current_corrects / log_interval\n",
    "\n",
    "            print(\n",
    "                f\"{train_step}: train_loss: {train_loss}, train_acc: {train_acc}\"\n",
    "            )\n",
    "            \n",
    "            cur_lr = optimizer.param_groups[0][\"lr\"] if scheduler is None else scheduler.get_last_lr()[0]   \n",
    "\n",
    "            #tensorboard write\n",
    "            writer.add_scalar(\"Loss/train\", train_loss, train_step)\n",
    "            writer.add_scalar(\"Acc/train\", train_acc, train_step)\n",
    "            writer.add_images(\"Images/train\", images, train_step)\n",
    "            writer.add_graph(model, images)\n",
    "\n",
    "            # wandb log\n",
    "            wandb.log({\n",
    "                \"Loss/train\": train_loss,\n",
    "                \"Acc/train\": train_acc,\n",
    "                \"Images/train\": wandb.Image(images),\n",
    "                \"Outputs/train\": wandb.Histogram(outputs.detach().cpu().numpy()),\n",
    "                \"Preds/train\": wandb.Histogram(preds.detach().cpu().numpy()),\n",
    "                \"Labels/train\": wandb.Histogram(labels.data.detach().cpu().numpy()),\n",
    "                \"Learning Rate\": cur_lr,\n",
    "            }, step=train_step)\n",
    "            \n",
    "            #로깅이 끝났기 때문에 로스를 초기화 해서 처음부터 다시 더해질수 있게 함\n",
    "            current_loss = 0 \n",
    "            current_corrects = 0\n",
    "\n",
    "        train_step += 1"
   ]
  },
  {
   "cell_type": "code",
   "execution_count": null,
   "metadata": {},
   "outputs": [],
   "source": [
    "#model 저장\n",
    "#torch.save(model, os.path.join(log_model_path, \"mlp.ckpt\"))"
   ]
  },
  {
   "cell_type": "code",
   "execution_count": null,
   "metadata": {},
   "outputs": [],
   "source": [
    "log_model_path"
   ]
  },
  {
   "cell_type": "code",
   "execution_count": 42,
   "metadata": {},
   "outputs": [
    {
     "name": "stdout",
     "output_type": "stream",
     "text": [
      "MLPWithDropout(\n",
      "  (linear1): Linear(in_features=784, out_features=128, bias=True)\n",
      "  (linear2): Linear(in_features=128, out_features=64, bias=True)\n",
      "  (linear3): Linear(in_features=64, out_features=10, bias=True)\n",
      "  (dropout1): Dropout(p=0.3, inplace=False)\n",
      "  (dropout2): Dropout(p=0.3, inplace=False)\n",
      ")\n"
     ]
    }
   ],
   "source": [
    "# load model\n",
    "loaded_model = torch.load(os.path.join(log_model_path, \"val_loss-0.043894585222005844-model.ckpt\"))\n",
    "loaded_model.eval() #test모드일때 사용. 굉장히 중요\n",
    "print(loaded_model)"
   ]
  },
  {
   "cell_type": "code",
   "execution_count": 43,
   "metadata": {},
   "outputs": [],
   "source": [
    "#softmax function definition\n",
    "def softmax(x, axis=0):\n",
    "    \"numpy softmax\"\n",
    "    max = np.max(x, axis=axis, keepdims=True)\n",
    "    e_x = np.exp(x - max)\n",
    "    sum = np.sum(e_x, axis=axis, keepdims=True)\n",
    "    f_x = e_x / sum\n",
    "    return f_x"
   ]
  },
  {
   "cell_type": "code",
   "execution_count": 44,
   "metadata": {},
   "outputs": [
    {
     "name": "stderr",
     "output_type": "stream",
     "text": [
      "test: 100%|██████████| 100/100 [00:01<00:00, 69.03it/s]"
     ]
    },
    {
     "name": "stdout",
     "output_type": "stream",
     "text": [
      "acc: 71.48%\n"
     ]
    },
    {
     "name": "stderr",
     "output_type": "stream",
     "text": [
      "\n"
     ]
    }
   ],
   "source": [
    "test_batch_size = 100\n",
    "test_dataset = FashionMNIST(data_root, download=True, train=False, transform=transforms.ToTensor())\n",
    "teset_dataloader = torch.utils.data.DataLoader(test_dataset, batch_size=test_batch_size, shuffle=False, num_workers=1)\n",
    "\n",
    "test_labels_list = []\n",
    "test_preds_list = []\n",
    "test_outputs_list = []\n",
    "\n",
    "for i, (test_images, test_labels) in enumerate(tqdm(teset_dataloader, position=0, leave=True, desc=\"test\")):\n",
    "    #forward\n",
    "    test_outputs = loaded_model(test_images)\n",
    "    _, test_preds = torch.max(test_outputs, 1)\n",
    "\n",
    "    #output에 대해서 softmax를 채워줌\n",
    "    final_outs = softmax(test_outputs.detach().numpy(), axis=1) #detach는 gpu에 있던걸 cpu로 넘겨주는 것\n",
    "    test_outputs_list.extend(final_outs)\n",
    "    test_preds_list.extend(test_preds.detach().numpy())\n",
    "    test_labels_list.extend(test_labels.detach().numpy())\n",
    "\n",
    "test_preds_list = np.array(test_preds_list)\n",
    "test_labels_list = np.array(test_labels_list)\n",
    "\n",
    "print(f\"acc: {np.mean(test_preds_list == test_labels_list)*100}%\")"
   ]
  },
  {
   "cell_type": "code",
   "execution_count": 45,
   "metadata": {},
   "outputs": [
    {
     "data": {
      "image/png": "[encoded data removed]",
      "text/plain": [
       "<Figure size 432x288 with 1 Axes>"
      ]
     },
     "metadata": {
      "needs_background": "light"
     },
     "output_type": "display_data"
    },
    {
     "name": "stdout",
     "output_type": "stream",
     "text": [
      "auc_score 0.9738060777777778\n"
     ]
    }
   ],
   "source": [
    "# ROC Curve:이것이 얼마나 decision boundary를 서서히 움직여 가면서 성능이 나오는지 확인\n",
    "#acc만으로 성능이 잘 안나오는 경우가 있기 때문에 확인\n",
    "from sklearn.metrics import roc_curve\n",
    "from sklearn.metrics import roc_auc_score\n",
    "\n",
    "fpr = {}\n",
    "tpr = {}\n",
    "thresh = {}\n",
    "n_class = 10\n",
    "\n",
    "for i in range(n_class):\n",
    "    fpr[i], tpr[i], thresh[i] = roc_curve(test_labels_list, np.array(test_outputs_list)[:, i], pos_label=i)\n",
    "\n",
    "# plot.\n",
    "for i in range(n_class):\n",
    "    plt.plot(fpr[i], tpr[i], linestyle=\"--\", label=f\"Class {i} vs Rest\")\n",
    "plt.title(\"Multi-class ROC Curve\")\n",
    "plt.xlabel(\"False Positive Rate\")\n",
    "plt.ylabel(\"True Positive Rate\")\n",
    "plt.legend(loc=\"best\")\n",
    "plt.show()\n",
    "\n",
    "print(\"auc_score\", roc_auc_score(test_labels_list, test_outputs_list, multi_class=\"ovo\", average=\"macro\"))"
   ]
  },
  {
   "cell_type": "code",
   "execution_count": null,
   "metadata": {},
   "outputs": [],
   "source": []
  }
 ],
 "metadata": {
  "interpreter": {
   "hash": "7244abc13d988a7e7d2c4c53272249ae82a63923609912adda01122398923101"
  },
  "kernelspec": {
   "display_name": "Python 3.8.8 ('base': conda)",
   "language": "python",
   "name": "python3"
  },
  "language_info": {
   "codemirror_mode": {
    "name": "ipython",
    "version": 3
   },
   "file_extension": ".py",
   "mimetype": "text/x-python",
   "name": "python",
   "nbconvert_exporter": "python",
   "pygments_lexer": "ipython3",
   "version": "3.8.8"
  },
  "orig_nbformat": 4
 },
 "nbformat": 4,
 "nbformat_minor": 2
}
